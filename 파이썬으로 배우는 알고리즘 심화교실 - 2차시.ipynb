{
 "cells": [
  {
   "cell_type": "markdown",
   "id": "2d8dd860-f8a8-4819-901a-4b8415fc85f2",
   "metadata": {
    "tags": []
   },
   "source": [
    "<div style=\"padding: 15px; border: 5px solid transparent; border-color: transparent; margin-bottom: 20px; border-radius: 4px; color: #3c763d; background-color: #dff0d8; border-color: #d6e9c6; font-weight: bold;\">\n",
    "    <br><br>\n",
    "    <div style=\"font-weight: bold; font-size: 40px\">파이썬으로 배우는 알고리즘 심화교실</div>\n",
    "    <div style=\"font-weight: bold; font-size: 20px\">(2) 파이썬 시작하기</div>\n",
    "    <hr style=\"width:80%;text-align:left;margin-left:0;border:0.5px solid green\">\n",
    "    <br>\n",
    "    &#x2022; 파이썬에 대해 이해한다.<br>\n",
    "    &#x2022; 파이썬의 기초 문법에 대해 이해한다.<br>\n",
    "    &#x2022; 변수에 대해 이해한다.<br>\n",
    "    &#x2022; 숫자 야구 게임에 대해 이해합니다.<br>\n",
    "</div>"
   ]
  },
  {
   "cell_type": "markdown",
   "id": "49c5bf94-8b07-4de2-87b5-92ce3989c1c1",
   "metadata": {
    "tags": []
   },
   "source": [
    "<div style=\"padding: 15px; border: 5px solid transparent; border-color: transparent; margin-bottom: 20px; border-radius: 4px; color: #3c763d; border-color: #d6e9c6; font-weight: bold;\">\n",
    "<h2 style='font-weight: bold'>1. 파이썬이 무엇인가요?</h2>\n",
    "</div> "
   ]
  },
  {
   "cell_type": "markdown",
   "id": "7e0ce821-a739-4031-8a17-2fb9860ad93e",
   "metadata": {},
   "source": [
    "파이썬(Python)은 네덜란드의 귀도 반 로섬(Guido van Rossum)이 개발한 프로그래밍 언어입니다.<br>\n",
    "그는 1989년 크리스마스가 있던 주에 자신이 출근하던 연구실의 문이 닫혀 있어서 취미삼아 파이썬을 만들었다고 합니다.<br>\n",
    "이후 개발을 거듭하여 1991년에 파이썬을 외부에 공개하게 됩니다.\n",
    "파이썬이라는 이름은 그가 즐겨 봤던 코미디 프로그램인 몬티 파이썬의 날아다니는 써커스 <Monty Python's Flying Circus>에서 따왔습니다.\n",
    "\n",
    "<table>\n",
    "<tr>\n",
    "    <th>\n",
    "        <img src=\"https://tmn-bucket-materials-all.s3.ap-northeast-2.amazonaws.com/image/dissac/dissac_nepes_4_02_01.PNG\" width=\"750\"></th>\n",
    "<tr>\n",
    "    <th>파이썬 로고</th>\n",
    "</tr>\n",
    "</table>\n",
    "\n",
    "파이썬은 다음과 같은 특징을 가지고 있습니다.\n",
    "\n",
    "- 쉽고 간결한 문법\n",
    "- 인터프리터 언어\n",
    "- 객체지향 프로그래밍\n",
    "- 다양한 라이브러리와 프레임워크\n",
    "- 오픈 소스 프로그램\n",
    "\n",
    "파이썬은 다양한 분야에서 활용되고 있습니다.\n",
    "\n",
    "- 웹 개발\n",
    "- 데이터 과학 및 데이터 분석\n",
    "- 인공지능과 머신러닝\n",
    "- 자동화 및 스크립팅\n",
    "\n",
    "파이썬은 그 활용성과 쉬운 문법으로 초보자에게 많이 추천되는 언어입니다.<br>\n",
    "요즘은 여러 교육 기관에서 프로그래밍 교육에 사용되고 있습니다.<br>\n",
    "뿐만 아니라 IT업계에서도 다양한 분야에서 활용되고 있습니다.<br>"
   ]
  },
  {
   "cell_type": "markdown",
   "id": "0f1c78d1-98cb-4620-95a0-91a092af58e0",
   "metadata": {
    "tags": []
   },
   "source": [
    "<div style=\"padding: 15px; border: 5px solid transparent; border-color: transparent; margin-bottom: 20px; border-radius: 4px; color: #3c763d; border-color: #d6e9c6; font-weight: bold;\">\n",
    "<h2 style='font-weight: bold'>2. 파이썬의 기초</h2>\n",
    "</div> "
   ]
  },
  {
   "cell_type": "markdown",
   "id": "ae14c2e0-3d33-4507-bbb7-a7e0fc757326",
   "metadata": {
    "tags": []
   },
   "source": [
    "### Hello, Codle"
   ]
  },
  {
   "cell_type": "markdown",
   "id": "f0a4a403-4403-4c93-b857-ace2109fe762",
   "metadata": {},
   "source": [
    "파이썬은 인터프리터(interpreter) 방식을 가지고 있습니다.<br>\n",
    "이는 프로그램을 실행할 때에 소스 코드를 컴파일 하여 파일을 실행하는 대신, 프로그래밍을 한 줄 씩 해석하여 즉시 실행하는 방식입니다.<br>\n",
    "\n",
    "```python\n",
    "print(\"Hello, Codle\")\n",
    "```\n",
    "위의 코드는 가장 간단한 코드로 `Hello, Codle`을 출력해 주는 코드입니다.<br>\n",
    "아래의 예제1에서 코드를 실행시켜 볼 수 있습니다.<br>\n",
    "\n",
    "이처럼 코드를 한 줄 한줄 실생하여 결과를 얻는 방식이 바로 인터프리터 방식입니다."
   ]
  },
  {
   "cell_type": "markdown",
   "id": "97f4d600-57ce-4c6c-919c-558155618534",
   "metadata": {},
   "source": [
    "**예제 1 : Hello, Codle 출력하기**"
   ]
  },
  {
   "cell_type": "code",
   "execution_count": 3,
   "id": "eb02b3a5-28ca-4784-9ad7-7cf275dd741f",
   "metadata": {
    "error_code": "# 예제_1_Hello_Codle\n\nprint(\"Hello, Codle\"",
    "tags": []
   },
   "outputs": [
    {
     "ename": "SyntaxError",
     "evalue": "incomplete input (804627652.py, line 3)",
     "output_type": "error",
     "traceback": [
      "\u001b[0;36m  Cell \u001b[0;32mIn[3], line 3\u001b[0;36m\u001b[0m\n\u001b[0;31m    print(\"Hello, Codle\"\u001b[0m\n\u001b[0m                        ^\u001b[0m\n\u001b[0;31mSyntaxError\u001b[0m\u001b[0;31m:\u001b[0m incomplete input\n"
     ]
    }
   ],
   "source": [
    "# 예제_1_Hello_Codle\n",
    "\n",
    "print(\"Hello, Codle\""
   ]
  },
  {
   "cell_type": "markdown",
   "id": "cfdd740f-f1e2-4e31-8e76-0f8781065873",
   "metadata": {},
   "source": [
    "그럼 예제 1의 코드를 좀 더 자세하게 살펴볼까요?<br>\n",
    "\n",
    "위의 코드는 크게 3부분으로 나눌 수 있습니다.<br>\n",
    "\n",
    "- 첫 번째 줄에 옥색으로 표시되어 있는 부분은 주석을 뜻합니다.<br>\n",
    "주석은 코드에 작성되지만 프로그램의 실행에 영향을 주지 않는 부분입니다.<br>\n",
    "주로 코드를 설명하거나 메모를 하는 데에 사용됩니다.<br>\n",
    "\n",
    "- 두 번째는 `print()` 부분입니다.<br>\n",
    "3 번째 줄에서 print 이후 괄호안에 \"Hello, Codle\"이 들어가 있는 형태로 구성되어 있습니다.<br>\n",
    "이처럼 단어 뒤에 괄호가 붙은 것을 함수(function)라고 부릅니다.<br>\n",
    "함수는 주로 특정한 동작을 하는 코드의 단위 입니다.(좀 더 자세한 내용은 이후의 수업에서 다루도록 하겠습니다.)\n",
    "\n",
    "- 세 번째는 빨간색으로 되어 있는 \"Hello, Codle\" 입니다.<br>\n",
    "이 부분은 문자열이라고 부르고 print() 함수를 통해 출력될 요소입니다.<br>\n",
    "문자열에 대한 내용은 뒷 부분에서 좀 더 설명하도록 하겠습니다."
   ]
  },
  {
   "cell_type": "markdown",
   "id": "d217fc56-8919-40e6-b742-adb69c8fc2bc",
   "metadata": {
    "tags": []
   },
   "source": [
    "### 주석 사용하기"
   ]
  },
  {
   "cell_type": "markdown",
   "id": "723953f1-b5a2-43c3-b217-c4a662106ddb",
   "metadata": {},
   "source": [
    "위의 코드 설명에서 나온 것 처럼 코드를 설명하거나 메모를 하는 용도로 주석을 사용합니다.<br>\n",
    "주석으로 작성된 부분은 코드 실행에 영향을 주지 않습니다.<br>\n",
    "\n",
    "파이썬으로 주석을 작성할 때에는 `#`을 사용합니다.<br>\n",
    "코드의 특정 위치에서 `#`을 사용하게 되면 그 줄에서 # 뒤의 코드는 무시됩니다.<br>\n",
    "\n",
    "아래의 예제2의 세번째 줄 처럼 특정 줄의 맨 앞에 `#`을 사용하여 해당줄을 모두 주석으로 만들 수 도 있고,<br>\n",
    "코드 뒤에 `#`을 사용하여 `#` 앞의 코드는 정상적으로 동작하고 `#` 뒤의 부분을 주석으로 처리할 수도 있습니다.<br>\n"
   ]
  },
  {
   "cell_type": "markdown",
   "id": "3cb1a227-62e7-4b11-b185-696a017d1bc4",
   "metadata": {},
   "source": [
    "**예제 2 : 주석 예시**"
   ]
  },
  {
   "cell_type": "code",
   "execution_count": null,
   "id": "19672563-18f9-4acd-bfb5-6e6da8acd6be",
   "metadata": {},
   "outputs": [],
   "source": [
    "# 예제_2_주석_예시\n",
    "\n",
    "# 주석은 실행되지 않습니다.\n",
    "print(\"Hello, Codle\") # 주석 앞의 코드는 실행됩니다."
   ]
  },
  {
   "cell_type": "markdown",
   "id": "bd9b8fba-93b2-483e-84ee-88a23c8068a9",
   "metadata": {},
   "source": [
    "### 파이썬의 자료형"
   ]
  },
  {
   "cell_type": "markdown",
   "id": "29f0b06f-4b9b-4bbc-96b7-b2ab5edeeb0b",
   "metadata": {},
   "source": [
    "자료형은 데이터의 종류를 나타냅니다.\n",
    "컴퓨터에는 다양한 종류의 데이터가 저잘될 수 있으며, 이러한 데이터의 종류에 따라 처리하는 방법이 달라집니다.<br>\n",
    "예를 들어, 파이썬에서 정수를 처리하는 방법과 문자열을 처리하는 방법이 다르기 때문에 정수와 문자열을 각각의 자료형으로 처리하게 됩니다.<br>\n",
    "\n",
    "파이썬의 주요한 자료형은 아래와 같습니다.\n",
    "\n",
    "**1. 정수형(int):** 정수를 나타내는 자료형입니다. 예를 들어, 1, -10 등이 있습니다.<br>\n",
    "**2. 실수형(float):** 소수점을 가지는 수를 나타내는 자료형입니다. 예를 들어, 3.14, -0.25 등이 있습니다.<br>\n",
    "**3. 문자열(str):** 문자들의 연속된 시퀀스로 이루어진 자료형입니다. 작은따옴표('')나 큰따옴표(\"\")로 둘러싸서 생성합니다. 예를 들어, 'Hello, World!', \"Python Programming\" 등이 있습니다.<br>\n",
    "**4. 불(bool):** 참(True) 또는 거짓(False) 값을 가지는 자료형입니다. 조건식의 결과나 논리 연산의 결과로 사용됩니다.<br>\n",
    "**5. 리스트(list):** 여러 개의 값을 순서대로 저장하는 자료형입니다. 대괄호([])로 둘러싸서 생성하며, 값들은 쉼표(,)로 구분합니다. 예를 들어, [1, 2, 3], ['apple', 'banana', 'orange'] 등이 있습니다.<br>\n",
    "\n",
    "이 외에도 몇가지 자료형이 더 있으나 이번 과정에서는 위의 5가지 자료형에 대해서만 공부합니다."
   ]
  },
  {
   "cell_type": "markdown",
   "id": "eb169525-0031-47dd-8965-fa42a7bf1e86",
   "metadata": {},
   "source": [
    "<div style=\"padding: 15px; border: 5px solid transparent; border-color: transparent; margin-bottom: 20px; border-radius: 4px; color: #31708f; border-color: #bce8f1;\">\n",
    "    <div style=\"font-weight: bold; font-size: 20px\">📌 TIP</div>\n",
    "    &#x2022; Type() 함수를 사용하여 해당 데이터의 자료형을 확인할 수 있습니다.\n",
    "</div>"
   ]
  },
  {
   "cell_type": "markdown",
   "id": "8bfd9ced-29d3-4dd8-a848-85b845fc7af6",
   "metadata": {},
   "source": [
    "**예제 3 : 데이터의 자료형 확인**"
   ]
  },
  {
   "cell_type": "code",
   "execution_count": null,
   "id": "01d1b912-9a2f-4051-bb26-2d168f0b3f62",
   "metadata": {
    "tags": []
   },
   "outputs": [],
   "source": [
    "# 예제_3_데이터의_자료형_확인\n",
    "\n",
    "print(type(1)) # 정수\n",
    "print(type(1.1)) # 실수\n",
    "print(type('1')) # 문자열\n",
    "print(type(True)) # 불\n",
    "print(type([1,2,3])) #리스트"
   ]
  },
  {
   "cell_type": "markdown",
   "id": "200afa49-95d7-4da0-aceb-44e6e02fb0bc",
   "metadata": {
    "tags": []
   },
   "source": [
    "### 정수를 이용해 계산하기"
   ]
  },
  {
   "cell_type": "markdown",
   "id": "92ab0a07-93f4-4cef-a762-5860c25ef0df",
   "metadata": {},
   "source": [
    "정수 변수들끼리는 사칙연산을 할 수 있습니다.<br>\n",
    "우리가 흔히 알고 있는 기호를 통해서 간단하게 정수의 사칙연산을 할 수 있습니다.\n",
    "\n",
    "|기호|연산|예시|결과|\n",
    "|----|---|----|---|\n",
    "|+|더하기|3+4|7|\n",
    "|-|빼기|4-2|2|\n",
    "|\\*|곱하기|4\\*3|12|\n",
    "|/|나누기|4/2|2.0|\n",
    "|//|몫|5//2|2|\n",
    "|%|나머지|5%2|1|\n",
    "|\\*\\*|거듭제곱|5**2|25|\n"
   ]
  },
  {
   "cell_type": "markdown",
   "id": "9eea9b17-072b-4f7a-b64c-43631ac2e779",
   "metadata": {},
   "source": [
    "<div style=\"padding: 15px; border: 5px solid transparent; border-color: transparent; margin-bottom: 20px; border-radius: 4px; color: #31708f; border-color: #bce8f1;\">\n",
    "    <div style=\"font-weight: bold; font-size: 20px\">📌 TIP</div>\n",
    "    &#x2022; 정수와 정수의 나누기를 하면 그 결과는 실수가 됩니다. 그래서 4/2 의 결과는 2가 아니라 2.0이 됩니다.\n",
    "</div>"
   ]
  },
  {
   "cell_type": "markdown",
   "id": "39e577af-fc7b-4912-8fa2-b4c730150d32",
   "metadata": {},
   "source": [
    "**예제 4 : 정수의 사칙연산**"
   ]
  },
  {
   "cell_type": "code",
   "execution_count": null,
   "id": "1e93bdee-8fc6-4d46-98d0-71ac3d3b0e46",
   "metadata": {
    "tags": []
   },
   "outputs": [],
   "source": [
    "# 예제_4_정수의_사칙연산\n",
    "\n",
    "print(3+4)\n",
    "print(4-2)\n",
    "print(4*3)\n",
    "print(4/2)\n",
    "print(5//2)\n",
    "print(5%2)\n",
    "print(5**2)"
   ]
  },
  {
   "cell_type": "markdown",
   "id": "5c13d5ca-2545-4f20-81b6-1a437265f96d",
   "metadata": {
    "tags": []
   },
   "source": [
    "### 실수를 이용해 계산하기"
   ]
  },
  {
   "cell_type": "markdown",
   "id": "7638fe86-a378-4e41-9e41-4f06a43ac3ed",
   "metadata": {},
   "source": [
    "실수 역시도 사칙연산을 할 수 있습니다.<br>\n",
    "실수와 실수뿐만 아니라 실수와 정수의 사칙연산도 가능합니다.<br>\n",
    "\n",
    "|기호|연산|예시|결과|\n",
    "|----|---|----|---|\n",
    "|+|더하기|4.2 + 1.3|5.5|\n",
    "|-|빼기|4.2 + 1.3|2.9000000000000004|\n",
    "|\\*|곱하기|4.2 + 1.3|5.460000000000001|\n",
    "|/|나누기|4.2 + 1.3|3.230769230769231|"
   ]
  },
  {
   "cell_type": "markdown",
   "id": "46c339c3-eaaf-4063-b161-38e12e8bac35",
   "metadata": {},
   "source": [
    "<div style=\"padding: 15px; border: 5px solid transparent; border-color: transparent; margin-bottom: 20px; border-radius: 4px; color: #31708f; border-color: #bce8f1;\">\n",
    "    <div style=\"font-weight: bold; font-size: 20px\">📌 TIP</div>\n",
    "    &#x2022; 컴퓨터는 실수를 정확하게 표현하지 못하기 때문에 실제 계산값에 비해 약간의 오차가 발생할 수 있습니다.\n",
    "</div>"
   ]
  },
  {
   "cell_type": "markdown",
   "id": "4572ce0b-ae00-4cce-aeb2-5840a26c76ab",
   "metadata": {},
   "source": [
    "**예제 5 : 실수의 사칙연산**"
   ]
  },
  {
   "cell_type": "code",
   "execution_count": null,
   "id": "3be84018-c8ae-4317-8613-1d624999853c",
   "metadata": {
    "tags": []
   },
   "outputs": [],
   "source": [
    "# 예제_5_실수의_사칙연산\n",
    "\n",
    "print(4.2 + 1.3)\n",
    "print(4.2 - 1.3)\n",
    "print(4.2 * 1.3)\n",
    "print(4.2 / 1.3)"
   ]
  },
  {
   "cell_type": "markdown",
   "id": "dd118ae8-94ee-43b9-8b85-689e7b21c781",
   "metadata": {},
   "source": [
    "<div style=\"padding: 15px; border: 5px solid transparent; border-color: transparent; margin-bottom: 20px; border-radius: 4px; color: #8a6d3b;  border-color: #faebcc;\">\n",
    "    <div style=\"font-weight: bold; font-size: 20px\">💯 연습문제를 풀어봅시다</div>\n",
    "    <br>\n",
    "    <a class=\"jcecodle-mk jcecodle-mk__problem-chip\" data-problem-id=\"134\" href='#jce-judge/open/134' target='_self'><span>안녕, 코들 1</span></a>\n",
    "    <a class=\"jcecodle-mk jcecodle-mk__problem-chip\" data-problem-id=\"132\" href='#jce-judge/open/132' target='_self'><span>안녕, 코들 3</span></a>\n",
    "    <a class=\"jcecodle-mk jcecodle-mk__problem-chip\" data-problem-id=\"8x5lNIVeGR0\" href='#jce-judge/open/8x5lNIVeGR0' target='_self'><span>간단한 연산</span></a>\n",
    "</div>"
   ]
  },
  {
   "cell_type": "markdown",
   "id": "a8aa76db-fe93-4444-ae4f-8826574b348e",
   "metadata": {
    "tags": []
   },
   "source": [
    "<div style=\"padding: 15px; border: 5px solid transparent; border-color: transparent; margin-bottom: 20px; border-radius: 4px; color: #3c763d; border-color: #d6e9c6; font-weight: bold;\">\n",
    "<h2 style='font-weight: bold'>3. 변수</h2>\n",
    "</div> "
   ]
  },
  {
   "cell_type": "markdown",
   "id": "7d7b050d-fde9-497d-bc23-14791fb72560",
   "metadata": {},
   "source": [
    "변수는 물건을 보관하는 상자와 비슷한 개념으로, 변수는 데이터를 저장하는 공간입니다.<br>\n",
    "파이썬에서 변수는 값을 저장하고 해당 값을 필요할 때 찾아쓸 수 있도록 해줍니다.<br>\n",
    "변수를 사용하면 데이터를 재사용하고 조작할 수 있어 프로그래밍을 간편하고 효율적으로 만들어줍니다.\n",
    "\n",
    "변수를 생성하고 사용하는 방법은 다음과 같습니다.\n",
    "\n",
    "**1. 변수에 값 저장하기:**\n",
    "변수를 사용하기 전에 변수에 값을 저장해야 합니다.<br>\n",
    "`변수이름 = 값` 의 방법으로 변수에 값을 저장할 수 있습니다.\n",
    "```python\n",
    "x = 10\n",
    "name = \"코들\"\n",
    "pi = 3.14\n",
    "```\n",
    "\n",
    "**2. 변수 값 사용하기:**\n",
    "변수에 저장된 값을 불러와 그 값을 사용합니다.<br>\n",
    "`변수이름`을 사용하면 그 변수에 저장된 값을 불러옵니다.\n",
    "```python\n",
    "print(x)\n",
    "print(name)\n",
    "print(pi)\n",
    "```\n",
    "\n",
    "**3. 변수 값 변경하기:**\n",
    "변수에 저장된 값은 언제든지 변경할 수 있습니다.<br>\n",
    "`변수이름 = 새로운 값` 의 방법으로 변수에 새로운 값을 저장할 수 있습니다.\n",
    "```python\n",
    "x = 20\n",
    "name = \"파이썬\"\n",
    "pi = 3.141592\n",
    "```\n"
   ]
  },
  {
   "cell_type": "markdown",
   "id": "83b0b979-daed-4fab-b438-dd4432918e19",
   "metadata": {},
   "source": [
    "<div style=\"padding: 15px; border: 5px solid transparent; border-color: transparent; margin-bottom: 20px; border-radius: 4px; color: #31708f; border-color: #bce8f1;\">\n",
    "    <div style=\"font-weight: bold; font-size: 20px\">📌 TIP</div>\n",
    "    변수의 이름을 설정할 때에는 다음 규칙을 따라야 합니다.<br>\n",
    "    &#x2022; 변수 이름은 문자, 숫자, 밑줄(_)로 구성할 수 있습니다.<br>\n",
    "    &#x2022; 변수 이름은 숫자로 시작할 수 없습니다. (예: 123abc는 불가능)<br>\n",
    "    &#x2022; 예약어(Reserved Keywords)는 변수 이름으로 사용할 수 없습니다. (예: if, while, for 등)<br>\n",
    "</div>"
   ]
  },
  {
   "cell_type": "markdown",
   "id": "6ddb732b-8079-48f7-9b75-645b89b00dea",
   "metadata": {},
   "source": [
    "**예제 6 : 변수의 사용**"
   ]
  },
  {
   "cell_type": "code",
   "execution_count": null,
   "id": "581c2480-e45f-48a7-b091-6425d5906004",
   "metadata": {
    "tags": []
   },
   "outputs": [],
   "source": [
    "# 예제_6_변수의_사용\n",
    "\n",
    "# 변수에 값 저장하기\n",
    "x = 10\n",
    "name = \"코들\"\n",
    "pi = 3.14\n",
    "\n",
    "# 변수 값 사용하기\n",
    "print(x)\n",
    "print(name)\n",
    "print(pi)\n",
    "\n",
    "# 변수 값 수정하기\n",
    "x = 20\n",
    "name = \"파이썬\"\n",
    "pi = 3.141592\n",
    "\n",
    "# 변수 값 사용하기\n",
    "print(x)\n",
    "print(name)\n",
    "print(pi)"
   ]
  },
  {
   "cell_type": "markdown",
   "id": "155e75a7-203d-4674-b545-dbe43a7b6384",
   "metadata": {},
   "source": [
    "<div style=\"padding: 15px; border: 5px solid transparent; border-color: transparent; margin-bottom: 20px; border-radius: 4px; color: #8a6d3b;  border-color: #faebcc;\">\n",
    "    <div style=\"font-weight: bold; font-size: 20px\">💯 연습문제를 풀어봅시다</div>\n",
    "    <br>\n",
    "    <a class=\"jcecodle-mk jcecodle-mk__problem-chip\" data-problem-id=\"PiKEHHodzX0\" href='#jce-judge/open/PiKEHHodzX0' target='_self'><span>변수 만들기</span></a>\n",
    "\n",
    "</div>"
   ]
  },
  {
   "cell_type": "markdown",
   "id": "71433973-fb20-4776-bce0-8e50cbc86601",
   "metadata": {
    "tags": []
   },
   "source": [
    "<div style=\"padding: 15px; border: 5px solid transparent; border-color: transparent; margin-bottom: 20px; border-radius: 4px; color: #3c763d; border-color: #d6e9c6; font-weight: bold;\">\n",
    "<h2 style='font-weight: bold'>프로젝트</h2>\n",
    "숫자 야구 게임을 알아봅시다.\n",
    "</div> "
   ]
  },
  {
   "cell_type": "markdown",
   "id": "90cdbd3d-7640-45f7-b946-6d1d46232ca8",
   "metadata": {},
   "source": [
    "숫자 야구는 두 명 이상의 플레이어가 참가하여 진행하는 간단하면서도 재미있는 추리 게임입니다.<br>\n",
    "하나의 플레이어가 비밀로 설정한 숫자를 다른 플레이어들이 추리하는 게임입니다.<br>\n",
    "추리하는 플레이어들은 매번 힌트를 받아가면서 비밀 숫자를 맞추는 것이 목표입니다.<br>\n",
    "\n",
    "게임 방법은 다음과 같습니다.\n",
    "\n",
    "**1. 비밀 숫자 설정:** 한 명의 플레이어가 세 자리의 서로 다른 숫자를 고릅니다.<br>\n",
    "**2. 추리 시작:** 다른 플레이어들은 비밀 숫자를 맞추기 위해 추리를 시작합니다.<br>\n",
    "**3. 힌트 제공:** 추리한 숫자와 비밀 숫자를 비교하여 힌트를 제공합니다. 힌트에는 두 가지 정보가 포함될 수 있습니다.<br>\n",
    "&nbsp;&nbsp;&nbsp;&nbsp; a. 스트라이크(S): 추리한 숫자와 위치까지 일치하는 숫자의 개수를 알려줍니다.<br>\n",
    "&nbsp;&nbsp;&nbsp;&nbsp; b. 볼(B): 추리한 숫자는 비밀 숫자에 포함되지만 위치는 맞지 않는 숫자의 개수를 알려줍니다.<br>\n",
    "&nbsp;&nbsp;&nbsp;&nbsp; c. 아웃(Out): 추리한 숫자가 비밀 숫자에 전혀 포함되지 않는 경우입니다.<br>\n",
    "\n",
    "**4. 추리 반복:** 힌트를 바탕으로 다시 추리를 합니다. 9번 이내에 비밀 숫자를 맞추는 데 성공하면 승리합니다.<br>\n",
    "\n",
    "8차시 까지의 수업을 통해서 아래와 같은 컴퓨터가 문제를 내고 플레이어가 맞추는 숫자 야구 게임을 만드는 것이 목표입니다.\n",
    "\n",
    "아래의 코드를 실행하여 게임을 플레이하면서 숫자야구의 규칙을 이해해봅시다."
   ]
  },
  {
   "cell_type": "code",
   "execution_count": null,
   "id": "5138f291-d130-4011-bee7-b721394a6573",
   "metadata": {
    "error_code": "from CodleBaseBall import Baseball\n\nBaseball(make_answer, strike_ball, judge, add_history)",
    "tags": []
   },
   "outputs": [],
   "source": [
    "from CodleBaseBall import Baseball\n",
    "\n",
    "Baseball()"
   ]
  }
 ],
 "metadata": {
  "kernelspec": {
   "display_name": "Python 3 (ipykernel)",
   "language": "python",
   "name": "python3"
  },
  "language_info": {
   "codemirror_mode": {
    "name": "ipython",
    "version": 3
   },
   "file_extension": ".py",
   "mimetype": "text/x-python",
   "name": "python",
   "nbconvert_exporter": "python",
   "pygments_lexer": "ipython3",
   "version": "3.10.12"
  }
 },
 "nbformat": 4,
 "nbformat_minor": 5
}
